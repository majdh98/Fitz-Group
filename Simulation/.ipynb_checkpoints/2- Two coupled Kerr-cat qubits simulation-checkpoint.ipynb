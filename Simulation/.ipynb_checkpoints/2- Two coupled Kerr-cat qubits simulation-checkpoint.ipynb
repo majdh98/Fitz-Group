{
 "cells": [
  {
   "cell_type": "markdown",
   "id": "53bb71e4",
   "metadata": {},
   "source": [
    "# Kerr-cat qubit\n",
    "\n",
    "In this notebook, we simulate the hamiltonian given in https://arxiv.org/abs/1907.12131:\n",
    "\\begin{equation}\n",
    "\\hat{H}_{\\mathrm{cat}} / \\hbar=-K \\hat{a}^{\\dagger 2} \\hat{a}^2+\\epsilon_2\\left(\\hat{a}^{\\dagger 2}+\\hat{a}^2\\right),\n",
    "\\end{equation}\n",
    "using QuTiP. $K$ is a constant reflecting kerr-nonlinearity, and $a$ is the annihilation operator.\n",
    "\n",
    "For a two qubits system we will have two Hamiltonians:\n",
    "\\begin{align}\n",
    "\\hat{H_1}_{\\mathrm{cat}} / \\hbar &=-K \\hat{a}_1^{\\dagger 2} \\hat{a}_1^2+\\epsilon_2\\left(\\hat{a}_1^{\\dagger 2}+\\hat{a}_1^2\\right),\\\\\n",
    "\\hat{H_2}_{\\mathrm{cat}} / \\hbar &=-K \\hat{a}_2^{\\dagger 2} \\hat{a}_2^2+\\epsilon_2\\left(\\hat{a}_2^{\\dagger 2}+\\hat{a}_2^2\\right),\n",
    "\\end{align}"
   ]
  },
  {
   "cell_type": "code",
   "execution_count": 85,
   "id": "d4934991",
   "metadata": {},
   "outputs": [
    {
     "name": "stdout",
     "output_type": "stream",
     "text": [
      "done\n"
     ]
    }
   ],
   "source": [
    "%matplotlib inline\n",
    "import matplotlib.pyplot as plt\n",
    "import matplotlib as mpl\n",
    "from numpy import *\n",
    "from qutip import *\n",
    "from IPython.display import HTML\n",
    "from matplotlib import animation\n",
    "\n",
    "# for eigendecomposition \n",
    "from numpy.linalg import eig\n",
    "\n",
    "# for diagonalization\n",
    "import sympy as sp\n",
    "from sympy import lambdify\n",
    "\n",
    "# for 3d interactive display of the bloch sphere\n",
    "from kaleidoscope import bloch_sphere\n",
    "from matplotlib.colors import LinearSegmentedColormap, rgb2hex\n",
    "from qiskit.quantum_info import Statevector, partial_trace\n",
    "print(\"done\")\n",
    "\n",
    "\n"
   ]
  },
  {
   "cell_type": "markdown",
   "id": "16475858",
   "metadata": {},
   "source": [
    "Functions for generating hamiltonin, plotting, density matrix to ket, and state exctraction:"
   ]
  },
  {
   "cell_type": "code",
   "execution_count": 86,
   "id": "eed071f8",
   "metadata": {},
   "outputs": [],
   "source": [
    "\n",
    "def construct_hamiltonian(N, k, epsilon):\n",
    "    \"\"\"\n",
    "    construct the hamiltonian described above\n",
    "    \"\"\"\n",
    "    a = destroy(N);\n",
    "    H = -k * a.dag() * a.dag() * a * a + epsilon*(a.dag() * a.dag() + a * a)\n",
    "    return H\n",
    "\n",
    "\n",
    "# find the pure kit given a density matrix. \n",
    "# * dd (densit matrix) is a positive Hermitian operator with unit trace.\n",
    "# * A pure dd has a single non-zero eigenvalue 1, and all others being 0. \n",
    "# * We find the ket making dd by simply diagonalizing dd. The eigenvector \n",
    "#   with eigenvalue 1 is the ket.\n",
    "# * dd must be a qutip obj\n",
    "def dd_to_ket(dd):\n",
    "    # cast to sympy matrix\n",
    "    dd_sp = sp.Matrix(dd.full())\n",
    "    \n",
    "    # diagonalize the matrix\n",
    "    P, diagonalized = dd_sp.diagonalize()\n",
    "    \n",
    "    # cast back to numpy array\n",
    "    diagonalized = lambdify((), diagonalized, modules='numpy')\n",
    "    diagonalized = diagonalized()\n",
    "    \n",
    "    # find the eigen values/vectos of diagonalized matrix\n",
    "    w, v = eig(diagonalized)\n",
    "    \n",
    "    # find the index of the eigen value closer to 1\n",
    "    index = 0;\n",
    "    _min = float(inf);\n",
    "    for i in range(len(w)):\n",
    "\n",
    "        if abs(1 - abs(w[i])) < _min:\n",
    "            _min = abs(1-abs(w[i])) \n",
    "            index = i\n",
    "            \n",
    "    \n",
    "    # find the eigen values/vectos of dd\n",
    "    v = dd.eigenstates() \n",
    "    return  v[1][index]\n",
    "\n",
    "# isolate the state of ket i from the state of coupled kets\n",
    "#     coupled_states: is an array describing the state of a system of coupled kets\n",
    "#         typically coupled_states is the output of mesolve for a set of coupled states\n",
    "#     state_i is the index of the desired ket\n",
    "#     return the state of ket i for every element of coupled_states\n",
    "def extract_state(coupled_states, state_i):\n",
    "    ket_state = []\n",
    "    for i in range(len(coupled_states)):\n",
    "        coupled_state = coupled_states[i]\n",
    "        ptr = coupled_state.ptrace(state_i)\n",
    "        decomposed_ket = dd_to_ket(ptr)\n",
    "        ket_state.append(decomposed_ket)\n",
    "    return ket_state\n",
    "\n",
    "\n",
    "def plot_wigner(rho, fig=None, ax=None):\n",
    "    \"\"\"\n",
    "    Plot the Wigner function and the Fock state distribution given a density matrix for\n",
    "    a harmonic oscillator mode.\n",
    "    \"\"\"\n",
    "    \n",
    "    if fig is None or ax is None:\n",
    "        fig, ax = plt.subplots(1, 1, figsize=(8,8))\n",
    "\n",
    "    if isket(rho):\n",
    "        rho = ket2dm(rho)\n",
    "    \n",
    "    xvec = linspace(-7.5,7.5,200)\n",
    "\n",
    "    W = wigner(rho, xvec, xvec)\n",
    "    wlim = abs(W).max()\n",
    "\n",
    "    ax.contourf(xvec, xvec, W, 100, norm=mpl.colors.Normalize(-wlim,wlim), cmap=mpl.cm.get_cmap('RdBu'))\n",
    "    ax.set_xlabel(r'$x_1$', fontsize=16)\n",
    "    ax.set_ylabel(r'$x_2$', fontsize=16)\n",
    "\n",
    "    return fig, ax\n",
    "\n"
   ]
  },
  {
   "cell_type": "markdown",
   "id": "5f9cd676",
   "metadata": {},
   "source": [
    "## Simulation \n",
    "first define simulation params:"
   ]
  },
  {
   "cell_type": "code",
   "execution_count": 87,
   "id": "54b90993",
   "metadata": {},
   "outputs": [],
   "source": [
    "N_1 = 3;\n",
    "N_2 = 3;\n",
    "k = 1;\n",
    "epsilon_1 = 1\n",
    "epsilon_2 = 1;\n",
    "H_1 = construct_hamiltonian(N_1, k, epsilon_1)\n",
    "H_2 = construct_hamiltonian(N_2, k, epsilon_2)\n",
    "H = tensor(H_1, H_2)\n",
    "phi_1 = coherent(N_1, 2.0)\n",
    "phi_2 = coherent(N_2, 2.0)\n",
    "phi = tensor(phi_1, phi_2)"
   ]
  },
  {
   "cell_type": "markdown",
   "id": "e10633b5",
   "metadata": {},
   "source": [
    "Next, simulate using qutip mesove:"
   ]
  },
  {
   "cell_type": "code",
   "execution_count": 88,
   "id": "7379e102",
   "metadata": {},
   "outputs": [
    {
     "name": "stdout",
     "output_type": "stream",
     "text": [
      "done\n"
     ]
    }
   ],
   "source": [
    "t = linspace(0, 1.0, 201) \n",
    "\n",
    "# evolve the state under the influence of the kerr hamiltonian. \n",
    "# pass an empty list as expecation value operators argument \n",
    "# full state of the system is described by result.states\n",
    "result = mesolve(H, phi, t, [], [])\n",
    "states = result.states\n",
    "print(\"done\")"
   ]
  },
  {
   "cell_type": "markdown",
   "id": "dc117d3b",
   "metadata": {},
   "source": [
    "Extract the state of each qubit and plot the wigner function for both qubits:"
   ]
  },
  {
   "cell_type": "code",
   "execution_count": 89,
   "id": "a5da2a68",
   "metadata": {},
   "outputs": [
    {
     "name": "stdout",
     "output_type": "stream",
     "text": [
      "done\n"
     ]
    }
   ],
   "source": [
    "ket_1 = extract_state(states, 0)\n",
    "ket_2 = extract_state(states, 1)\n",
    "print(\"done\")"
   ]
  },
  {
   "cell_type": "code",
   "execution_count": 90,
   "id": "073f5fe2",
   "metadata": {},
   "outputs": [
    {
     "data": {
      "text/plain": [
       "(<Figure size 576x576 with 1 Axes>,\n",
       " <AxesSubplot:xlabel='$x_1$', ylabel='$x_2$'>)"
      ]
     },
     "execution_count": 90,
     "metadata": {},
     "output_type": "execute_result"
    },
    {
     "data": {
      "image/png": "[encoded data removed]",
      "text/plain": [
       "<Figure size 576x576 with 1 Axes>"
      ]
     },
     "metadata": {
      "needs_background": "light"
     },
     "output_type": "display_data"
    },
    {
     "data": {
      "image/png": "[encoded data removed]",
      "text/plain": [
       "<Figure size 576x576 with 1 Axes>"
      ]
     },
     "metadata": {
      "needs_background": "light"
     },
     "output_type": "display_data"
    }
   ],
   "source": [
    "time_unit = 10\n",
    "plot_wigner(ket_1[time_unit])\n",
    "plot_wigner(ket_2[time_unit])"
   ]
  }
 ],
 "metadata": {
  "kernelspec": {
   "display_name": "Python 3",
   "language": "python",
   "name": "python3"
  },
  "language_info": {
   "codemirror_mode": {
    "name": "ipython",
    "version": 3
   },
   "file_extension": ".py",
   "mimetype": "text/x-python",
   "name": "python",
   "nbconvert_exporter": "python",
   "pygments_lexer": "ipython3",
   "version": "3.8.8"
  }
 },
 "nbformat": 4,
 "nbformat_minor": 5
}
