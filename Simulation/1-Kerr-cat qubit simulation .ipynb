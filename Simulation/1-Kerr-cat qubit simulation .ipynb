{
 "cells": [
  {
   "cell_type": "markdown",
   "id": "2d0b1473",
   "metadata": {},
   "source": [
    "# Kerr-cat qubit\n",
    "\n",
    "In this notebook, we simulate the hamiltonian given in https://arxiv.org/abs/1907.12131:\n",
    "\\begin{equation}\n",
    "\\hat{H}_{\\mathrm{cat}} / \\hbar=-K \\hat{a}^{\\dagger 2} \\hat{a}^2+\\epsilon_2\\left(\\hat{a}^{\\dagger 2}+\\hat{a}^2\\right),\n",
    "\\end{equation}\n",
    "using QuTiP. "
   ]
  },
  {
   "cell_type": "code",
   "execution_count": 32,
   "id": "d4965481",
   "metadata": {},
   "outputs": [
    {
     "name": "stdout",
     "output_type": "stream",
     "text": [
      "done\n"
     ]
    }
   ],
   "source": [
    "%matplotlib inline\n",
    "import matplotlib.pyplot as plt\n",
    "import matplotlib as mpl\n",
    "from numpy import *\n",
    "from qutip import *\n",
    "\n",
    "# animation\n",
    "from matplotlib import animation\n",
    "from matplotlib.animation import PillowWriter\n",
    "\n",
    "\n",
    "# for 3d interactive display of the bloch sphere\n",
    "from kaleidoscope import bloch_sphere\n",
    "from matplotlib.colors import LinearSegmentedColormap, rgb2hex\n",
    "from qiskit.quantum_info import Statevector, partial_trace\n",
    "print(\"done\")\n",
    "\n",
    "\n"
   ]
  },
  {
   "cell_type": "code",
   "execution_count": 2,
   "id": "ab6f6a57",
   "metadata": {},
   "outputs": [
    {
     "name": "stdout",
     "output_type": "stream",
     "text": [
      "Quantum object: dims = [[3], [1]], shape = (3, 1), type = ket\n",
      "Qobj data =\n",
      "[[ 0.35051893]\n",
      " [-0.18298953]\n",
      " [ 0.91850493]]\n"
     ]
    }
   ],
   "source": [
    "k = 2*pi                  # Kerr-nonlinearity\n",
    "t = linspace(0, 1.0, 201) # time\n",
    "N = 3                       # qubits (photon number)\n",
    "epsilon = 1\n",
    "\n",
    "# start with a coherent state with alpha=2.0\n",
    "initial_state = coherent(N, 2.0)\n",
    "\n",
    "a = destroy(N)               # annihilation operator\n",
    "# Kerr Hamiltonian\n",
    "H = -k * a.dag() * a.dag() * a * a + epsilon*(a.dag() * a.dag() + a * a)\n",
    "print(initial_state)"
   ]
  },
  {
   "cell_type": "code",
   "execution_count": 3,
   "id": "501a5422",
   "metadata": {},
   "outputs": [],
   "source": [
    "# evolve the state under the influence of the kerr hamiltonian. \n",
    "# pass an empty list as expecation value operators argument \n",
    "# full state of the system is described by result.states\n",
    "result = mesolve(H, initial_state, t, [], [])\n",
    "states = result.states\n"
   ]
  },
  {
   "cell_type": "markdown",
   "id": "f372c5a8",
   "metadata": {},
   "source": [
    "evolve (https://qutip.org/docs/latest/apidoc/functions.html#module-qutip.mesolve, https://qutip.org/docs/latest/guide/dynamics/dynamics-time.html):"
   ]
  },
  {
   "cell_type": "code",
   "execution_count": 47,
   "id": "d68de5fb",
   "metadata": {},
   "outputs": [
    {
     "data": {
      "text/plain": [
       "(<Figure size 576x576 with 1 Axes>,\n",
       " <AxesSubplot:title={'center':'$\\\\hat{H}/ \\\\hbar = -K \\\\hat{a}^{\\\\dagger 2}\\\\hat{a}^2 +\\\\epsilon(\\\\hat{a}^{\\\\dagger 2}+\\\\hat{a}^2) $'}, xlabel='$\\\\rm{Re}(\\\\alpha)$', ylabel='$\\\\rm{Im}(\\\\alpha)$'>)"
      ]
     },
     "execution_count": 47,
     "metadata": {},
     "output_type": "execute_result"
    },
    {
     "data": {
      "image/png": "[encoded data removed]",
      "text/plain": [
       "<Figure size 576x576 with 1 Axes>"
      ]
     },
     "metadata": {
      "needs_background": "light"
     },
     "output_type": "display_data"
    }
   ],
   "source": [
    "def plot_wigner(rho, animate=0, fig=None, ax=None):\n",
    "    \"\"\"\n",
    "    Plot the Wigner function and the Fock state distribution given a density matrix for\n",
    "    a harmonic oscillator mode.\n",
    "    \n",
    "    https://github.com/jrjohansson/qutip-lectures/blob/master/Lecture-14-Kerr-nonlinearities.ipynb\n",
    "    https://qutip.org/docs/4.0.2/modules/qutip/visualization.html\n",
    "    \"\"\"\n",
    "    \n",
    "    if fig is None or ax is None:\n",
    "        fig, ax = plt.subplots(1, 1, figsize=(8,8))\n",
    "\n",
    "    if isket(rho):\n",
    "        rho = ket2dm(rho)\n",
    "        \n",
    "    \n",
    "    xvec = linspace(-7.5,7.5,200)\n",
    "\n",
    "    W = wigner(rho, xvec, xvec)\n",
    "    wlim = abs(W).max()\n",
    "\n",
    "    plot = ax.contourf(xvec, xvec, W, 100, norm=mpl.colors.Normalize(-wlim,wlim), cmap=mpl.cm.get_cmap('RdBu'))\n",
    "    ax.set_xlabel(r'$\\rm{Re}(\\alpha)$', fontsize=16)\n",
    "    ax.set_ylabel(r'$\\rm{Im}(\\alpha)$', fontsize=16)\n",
    "    \n",
    "    if animate == 1:\n",
    "        return plot.collections\n",
    "        \n",
    "    return fig, ax\n",
    "\n",
    "\n",
    "fig, ax = plt.subplots(1, 1, figsize=(8,8))\n",
    "ax.set_title(r\"$\\hat{H}/ \\hbar = -K \\hat{a}^{\\dagger 2}\\hat{a}^2 +\\epsilon(\\hat{a}^{\\dagger 2}+\\hat{a}^2) $\",  fontsize=16)\n",
    "plot_wigner(result.states[0], fig=fig, ax=ax)"
   ]
  },
  {
   "cell_type": "markdown",
   "id": "d23c1d00",
   "metadata": {},
   "source": [
    "## Animation"
   ]
  },
  {
   "cell_type": "code",
   "execution_count": 48,
   "id": "8909ff28",
   "metadata": {},
   "outputs": [
    {
     "name": "stdout",
     "output_type": "stream",
     "text": [
      "done\n"
     ]
    }
   ],
   "source": [
    "def update(n): \n",
    "    return plot_wigner(result.states[n], animate=1, fig=fig, ax=ax)\n",
    "\n",
    "fig, ax = plt.subplots(1, 1, figsize=(8,8))\n",
    "\n",
    "ax.set_title(r\"$\\hat{H}/ \\hbar = -K \\hat{a}^{\\dagger 2}\\hat{a}^2 +\\epsilon(\\hat{a}^{\\dagger 2}+\\hat{a}^2) $\",  fontsize=16)\n",
    "\n",
    "\n",
    "anim = animation.FuncAnimation(fig, update, frames=len(result.states), blit=True)\n",
    "\n",
    "anim.save(r'C:\\Users\\Majd\\Desktop\\Dartmouth\\1-Cources\\Fitz-Group\\Simulation\\animation-kerr-coherent-state.gif', writer = PillowWriter(fps=10))\n",
    "\n",
    "plt.close(fig)\n",
    "print(\"done\")"
   ]
  }
 ],
 "metadata": {
  "kernelspec": {
   "display_name": "Python 3",
   "language": "python",
   "name": "python3"
  },
  "language_info": {
   "codemirror_mode": {
    "name": "ipython",
    "version": 3
   },
   "file_extension": ".py",
   "mimetype": "text/x-python",
   "name": "python",
   "nbconvert_exporter": "python",
   "pygments_lexer": "ipython3",
   "version": "3.8.8"
  }
 },
 "nbformat": 4,
 "nbformat_minor": 5
}
